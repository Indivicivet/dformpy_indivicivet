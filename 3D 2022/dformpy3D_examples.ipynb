{
 "cells": [
  {
   "cell_type": "code",
   "execution_count": 1,
   "id": "241e92d0",
   "metadata": {},
   "outputs": [],
   "source": [
    "from regex import F\n",
    "import dformpy3D as df3\n",
    "import dformpy as df\n",
    "import numpy as np\n",
    "import matplotlib.pyplot as plt\n",
    "from mayavi import mlab"
   ]
  },
  {
   "cell_type": "code",
   "execution_count": 2,
   "id": "6e2cffdb",
   "metadata": {},
   "outputs": [],
   "source": [
    "grid = np.linspace(-5.1,5.1,11)\n",
    "xg, yg, zg = np.meshgrid(grid, grid, grid)\n",
    "xg2, yg2= np.meshgrid(grid, grid)"
   ]
  },
  {
   "cell_type": "code",
   "execution_count": 3,
   "id": "b9c2ab99",
   "metadata": {},
   "outputs": [],
   "source": [
    "fx = yg\n",
    "fy = -xg\n",
    "fz = 1*grid\n",
    "\n",
    "fx2 = -yg2*np.sqrt(xg2**2+yg2**2)\n",
    "fy2 = xg2*np.sqrt(xg2**2+yg2**2)\n",
    "\n",
    "potential = np.sqrt(xg**2 + yg**2 + zg**2)\n",
    "potential2 = np.sqrt(xg2**2 + yg2**2)"
   ]
  },
  {
   "cell_type": "code",
   "execution_count": 4,
   "id": "d61fce30",
   "metadata": {
    "scrolled": true
   },
   "outputs": [
    {
     "name": "stderr",
     "output_type": "stream",
     "text": [
      "qt.qpa.window: <QNSWindow: 0x7f8d8208edb0; contentView=<QNSView: 0x7f8d820c0fd0; QCocoaWindow(0x6000038706e0, window=QWidgetWindow(0x600002b29860, name=\"QMainWindowClassWindow\"))>> has active key-value observers (KVO)! These will stop working now that the window is recreated, and will result in exceptions when the observers are removed. Break in QCocoaWindow::recreateWindowIfNeeded to debug.\n",
      "qt.qpa.window: <QNSWindow: 0x7f8d8099e3c0; contentView=<QNSView: 0x7f8d7ba8e830; QCocoaWindow(0x600003869e40, window=QWidgetWindow(0x600002bd27c0, name=\"QMainWindowClassWindow\"))>> has active key-value observers (KVO)! These will stop working now that the window is recreated, and will result in exceptions when the observers are removed. Break in QCocoaWindow::recreateWindowIfNeeded to debug.\n"
     ]
    }
   ],
   "source": [
    "#vector fields via dformpy3D plus all the cosmetical options\n",
    "\n",
    "vf = df3.vector_field3(xg, yg, zg, fx, fy, fz)\n",
    "vf.autoscale()\n",
    "vf.give_eqn('y','-x','1')\n",
    "cov_f1 = vf.covariant()\n",
    "#vff = vf.zoom(mag = 5, target=[0,0,-8], dpd = 6)\n",
    "#cvf = vf.curl()\n",
    "#cvf.log_scaling()\n",
    "#vf.plot(add_curl='n', scaling=0.1, arrow_colour='c', arrow_cmap='viridis', opacity=1.0, curl_opacity=0.2)\n",
    "cov_f1.plot()\n",
    "#cvf.plot(scaling=1.0)\n",
    "#deriv_field = vf.deriv(target=[2,2,0], mag=2, dpd=5)\n",
    "#deriv_field.plot()\n",
    "#vf.div(0, -2, 3)"
   ]
  },
  {
   "cell_type": "code",
   "execution_count": 5,
   "id": "92d18ffb",
   "metadata": {},
   "outputs": [
    {
     "name": "stderr",
     "output_type": "stream",
     "text": [
      "/Users/moustafagharamti/Documents/Nottingham Teaching/2020-2021/Summer project/Summer_project-df/3D 2022/dformpy3D.py:1: RuntimeWarning: invalid value encountered in true_divide\n",
      "  import numpy as np\n"
     ]
    }
   ],
   "source": [
    "#0-form via dformpy3D plus all the cosmetical options and some exterior algebra\n",
    "\n",
    "f0 = df3.form_0_3d(xg, yg, zg, potential)\n",
    "f0.give_eqn('sqrt(x**2 + y**2 + z**2)')\n",
    "#f00 = f0.zoom(mag=2, target=[-5,0,0], dpd=100)\n",
    "#f0.set_density(100)\n",
    "#f0.levels(15)\n",
    "#f00.log_scaling()\n",
    "#f0.plot(cross_sec_plane='y')\n",
    "f0_ext_d = f0.ext_d()\n",
    "#f0_ext_d_num = f0.num_ext_d()\n",
    "#f0_ext_d.set_density(8)\n",
    "f0_ext_d.plot()\n",
    "#f0_ext_d_num.plot()\n",
    "#f0.plot(cross_sec_plane='y')\n",
    "#f00.plot(cross_sec_plane='y')"
   ]
  },
  {
   "cell_type": "code",
   "execution_count": 11,
   "id": "60e81012",
   "metadata": {},
   "outputs": [],
   "source": [
    "\n",
    "#----compare difference between analytic/num 2d & 3d-----------------------\n",
    "\n",
    "#f0_2d = df.form_0(xg2, yg2, potential2)\n",
    "#f0_2d.give_eqn('sqrt(x**2 + y**2)')\n",
    "#f0_2d_ext_d = f0_2d.ext_d()\n",
    "#f0_2d_ext_d_num = f0_2d.num_ext_d()\n",
    "\n",
    "#fig = plt.figure()\n",
    "#ax = fig.add_subplot(121)\n",
    "#ax1 = fig.add_subplot(122)\n",
    "#ax.set_aspect('equal')\n",
    "#ax1.set_aspect('equal')\n",
    "\n",
    "\n",
    "#f0_2d_ext_d.plot(axis=ax)\n",
    "#f0_2d_ext_d_num.plot(axis=ax1)\n",
    "#plt.show()\n",
    "\n",
    "#--------------------------------------------------------------------------"
   ]
  },
  {
   "cell_type": "code",
   "execution_count": 12,
   "id": "cf4ff811",
   "metadata": {},
   "outputs": [
    {
     "name": "stderr",
     "output_type": "stream",
     "text": [
      "qt.qpa.window: <QNSWindow: 0x7fbc92358230; contentView=<QNSView: 0x7fbc92357e20; QCocoaWindow(0x60000365d600, window=QWidgetWindow(0x600002424ae0, name=\"QMainWindowClassWindow\"))>> has active key-value observers (KVO)! These will stop working now that the window is recreated, and will result in exceptions when the observers are removed. Break in QCocoaWindow::recreateWindowIfNeeded to debug.\n"
     ]
    }
   ],
   "source": [
    "#1-form via dformpy3D plus all the cosmetical options and some exterior algebra\n",
    "\n",
    "form_1 = df3.form_1_3d(xg, yg, zg, fx, fy, fz)\n",
    "form_1.give_eqn('y','-x','1')\n",
    "#form_11 = form_1.zoom(mag = 2.8, target=[0,0,10], dpd=4)\n",
    "#form_1.log_scaling()\n",
    "#contravariant_field = form_1.contravariant()\n",
    "#contravariant_field.plot(scaling=0.1)\n",
    "#f1_extd = form_1.ext_d()\n",
    "#f1_extd_num = form_1.num_ext_d()\n",
    "#f1_extd.plot()\n",
    "#f1_extd_num.plot()\n",
    "#hodged_f1 = form_1.hodge()\n",
    "#hodged_f1.plot()\n",
    "#hodged_f1_num = form_1.num_hodge()\n",
    "#hodged_f1_num.plot()\n",
    "#f1_intd = form_1.interior_d(vf)\n",
    "#f1_intd.plot()\n",
    "#f1_intd_num = form_1.num_interior_d(vf)\n",
    "#f1_intd_num.plot()\n",
    "form_1.plot()"
   ]
  },
  {
   "cell_type": "code",
   "execution_count": 13,
   "id": "b7fba7df",
   "metadata": {},
   "outputs": [],
   "source": [
    "#----compare difference between analytic/num 2d & 3d-----------------------\n",
    "\n",
    "#f1_2d = df.form_1(xg2, yg2, fx2, fy2)\n",
    "#f1_2d.give_eqn('y','-x')\n",
    "#f1_2d_ext_d = f1_2d.ext_d()\n",
    "#f1_2d_ext_d_num = f1_2d.num_ext_d()\n",
    "\n",
    "#fig = plt.figure()\n",
    "#ax = fig.add_subplot(121)\n",
    "#ax1 = fig.add_subplot(122)\n",
    "#ax.set_aspect('equal')\n",
    "#ax1.set_aspect('equal')\n",
    "\n",
    "#f1_2d_ext_d.plot(axis=ax)\n",
    "#f1_2d_ext_d_num.plot(axis=ax1)\n",
    "#plt.show()\n",
    "\n",
    "#--------------------------------------------------------------------------"
   ]
  },
  {
   "cell_type": "code",
   "execution_count": 14,
   "id": "c83f4715",
   "metadata": {},
   "outputs": [
    {
     "name": "stderr",
     "output_type": "stream",
     "text": [
      "qt.qpa.window: <QNSWindow: 0x7fbc919f9f40; contentView=<QNSView: 0x7fbc919e8a10; QCocoaWindow(0x60000362a520, window=QWidgetWindow(0x600002417300, name=\"QMainWindowClassWindow\"))>> has active key-value observers (KVO)! These will stop working now that the window is recreated, and will result in exceptions when the observers are removed. Break in QCocoaWindow::recreateWindowIfNeeded to debug.\n"
     ]
    }
   ],
   "source": [
    "#2-form via dformpy3D plus all the cosmetical options and some exterior algebra\n",
    "\n",
    "f2 = df3.form_2_3d(xg, yg, zg, Fz=fz, Fx=fx, Fy=fy)\n",
    "f2.give_eqn('y','-y','1')\n",
    "#f2.log_scaling()\n",
    "#f22 = f2.zoom(mag = 5, target=[2,2,2], dpd=8)\n",
    "f2.plot()\n",
    "#f2_ext_d = f2.ext_d()\n",
    "#f2_ext_d.plot()\n",
    "#f2_num_ext_d = f2.num_ext_d()\n",
    "#f2_num_ext_d.plot()\n",
    "#hodged_f2 = f2.hodge()\n",
    "#hodged_f2.plot()\n",
    "#hodged_f2_num = f2.num_hodge()\n",
    "#hodged_f2_num.plot()\n",
    "#f2_intd = f2.interior_d(vf)\n",
    "#f2_intd.plot()\n",
    "#f2_intd_num = f2.num_interior_d(vf)\n",
    "#f2_intd_num.plot()"
   ]
  },
  {
   "cell_type": "code",
   "execution_count": 16,
   "id": "40c8ee16",
   "metadata": {},
   "outputs": [
    {
     "name": "stderr",
     "output_type": "stream",
     "text": [
      "qt.qpa.window: <QNSWindow: 0x7fbc790463d0; contentView=<QNSView: 0x7fbc808baf20; QCocoaWindow(0x60000361a7e0, window=QWidgetWindow(0x600002b68480, name=\"QMainWindowClassWindow\"))>> has active key-value observers (KVO)! These will stop working now that the window is recreated, and will result in exceptions when the observers are removed. Break in QCocoaWindow::recreateWindowIfNeeded to debug.\n"
     ]
    }
   ],
   "source": [
    "#3-form via dformpy3D plus all the cosmetical options and some exterior algebra\n",
    "\n",
    "f3 = df3.form_3_3d(xg, yg, zg, potential)\n",
    "f3.give_eqn('sqrt(x**2+y**2+z**2)')\n",
    "#f33 = f3.zoom(mag = 5, target=[2,2,2], dpd=8)\n",
    "#f3.log_scaling()\n",
    "#f33.plot()\n",
    "#f3_intd = f3.interior_d(vf)\n",
    "#f3_intd.plot()\n",
    "#f3_intd_num = f3.num_interior_d(vf)\n",
    "#f3_intd_num.plot()\n",
    "#f3_f0 = f3.hodge()\n",
    "#f3_f0.plot()\n",
    "f3.plot()"
   ]
  },
  {
   "cell_type": "code",
   "execution_count": null,
   "id": "ffed108a",
   "metadata": {},
   "outputs": [],
   "source": [
    "#wedge product options\n",
    "\n",
    "#f0_wedge_f0 = f0.wedge(f0)\n",
    "#f0_wedge_f0.plot()\n",
    "#f0_wedge_f1 = f0.wedge(form_1)\n",
    "#f0_wedge_f1.plot()\n",
    "#f0_wedge_f2 = f0.wedge(f2)\n",
    "#f0_wedge_f2.plot()\n",
    "#f0_wedge_f3 = f0.wedge(f3)\n",
    "#f0_wedge_f3.plot()\n",
    "\n",
    "#f0_wedge_f0 = f0.num_wedge(f0)\n",
    "#f0_wedge_f0.plot()\n",
    "#f0_wedge_f1 = f0.num_wedge(form_1)\n",
    "#f0_wedge_f1.plot()\n",
    "#f0_wedge_f2 = f0.num_wedge(f2)\n",
    "#f0_wedge_f2.plot()\n",
    "#f0_wedge_f3 = f0.num_wedge(f3)\n",
    "#f0_wedge_f3.plot()\n",
    "\n",
    "\n",
    "\n",
    "#f1_wedge_f0 = form_1.wedge(f0)\n",
    "#f1_wedge_f0.plot()\n",
    "#f1_wedge_f1 = form_1.wedge(form_1)\n",
    "#f1_wedge_f1.plot()\n",
    "#f1_wedge_f2 = form_1.wedge(f2)\n",
    "#f1_wedge_f2.plot()\n",
    "#f1_wedge_f3 = form_1.wedge(f3)\n",
    "\n",
    "#f1_num_wedge_f0 = form_1.num_wedge(f0)\n",
    "#f1_num_wedge_f0.plot()\n",
    "#f1_num_wedge_f1 = form_1.num_wedge(form_1)\n",
    "#f1_num_wedge_f1.plot()\n",
    "#f1_num_wedge_f2 = form_1.num_wedge(f2)\n",
    "#f1_num_wedge_f2.plot()\n",
    "#f1_num_wedge_f3 = form_1.num_wedge(f3)\n",
    "\n",
    "\n",
    "\n",
    "#f2_wedge_f0 = f2.wedge(f0)\n",
    "#f2_wedge_f0.plot()\n",
    "#f2_wedge_f1 = f2.wedge(form_1)\n",
    "#f2_wedge_f1.plot()\n",
    "#f2_wedge_f2 = f2.wedge(f2)\n",
    "#f2_wedge_f3 = f2.wedge(f3)\n",
    "\n",
    "#f2_wedge_f0_num = f2.num_wedge(f0)\n",
    "#f2_wedge_f0_num.plot()\n",
    "#f2_wedge_f1_num = f2.num_wedge(form_1)\n",
    "#f2_wedge_f1_num.plot()\n",
    "#f2_wedge_f2_num = f2.num_wedge(f2)\n",
    "#f2_wedge_f3_num = f2.num_wedge(f3)\n",
    "\n",
    "\n",
    "\n",
    "#f3_wedge_f0 = f3.wedge(f0)\n",
    "#f3_wedge_f0.plot()\n",
    "#f3_wedge_f1 = f3.wedge(form_1)\n",
    "#f3_wedge_f2 = f3.wedge(f2)\n",
    "#f3_wedge_f3 = f3.wedge(f3)\n",
    "\n",
    "#f3_wedge_f0_num = f3.num_wedge(f0)\n",
    "#f3_wedge_f0_num.plot()\n",
    "#f3_wedge_f1_num = f3.num_wedge(form_1)\n",
    "#f3_wedge_f2_num = f3.num_wedge(f2)\n",
    "#f3_wedge_f3_num = f3.num_wedge(f3)"
   ]
  }
 ],
 "metadata": {
  "kernelspec": {
   "display_name": "Python 3 (ipykernel)",
   "language": "python",
   "name": "python3"
  },
  "language_info": {
   "codemirror_mode": {
    "name": "ipython",
    "version": 3
   },
   "file_extension": ".py",
   "mimetype": "text/x-python",
   "name": "python",
   "nbconvert_exporter": "python",
   "pygments_lexer": "ipython3",
   "version": "3.7.9"
  }
 },
 "nbformat": 4,
 "nbformat_minor": 5
}
